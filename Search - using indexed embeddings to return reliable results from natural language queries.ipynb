{
 "cells": [
  {
   "cell_type": "markdown",
   "id": "45b5029b",
   "metadata": {},
   "source": [
    "## In this experiment we're searching a prepared corpus based on similarity between the query and the pre-processed embeddings of the corpus sections\n",
    "* Things to try this time:\n",
    "  * Using a vector database for storing/querying prepared embeddings\n",
    "  * Including urls with the prepared embedded vectors to allow linking to the source doc in query response\n",
    "* Stretch\n",
    "  * Analyze the similarity of the responses to undersatnd if there are multi0ple interpretations of the query/response"
   ]
  },
  {
   "cell_type": "code",
   "execution_count": 1,
   "id": "ff0077ed",
   "metadata": {},
   "outputs": [],
   "source": [
    "import numpy as np\n",
    "import openai\n",
    "import pandas as pd\n",
    "import pickle\n",
    "import tiktoken\n",
    "\n",
    "COMPLETIONS_MODEL = \"text-davinci-003\"\n",
    "EMBEDDING_MODEL = \"text-embedding-ada-002\""
   ]
  },
  {
   "cell_type": "code",
   "execution_count": null,
   "id": "bc37a66e",
   "metadata": {},
   "outputs": [],
   "source": []
  },
  {
   "cell_type": "code",
   "execution_count": 2,
   "id": "264f9b56",
   "metadata": {},
   "outputs": [
    {
     "name": "stdout",
     "output_type": "stream",
     "text": [
      "3941 rows in the data.\n"
     ]
    },
    {
     "data": {
      "text/html": [
       "<div>\n",
       "<style scoped>\n",
       "    .dataframe tbody tr th:only-of-type {\n",
       "        vertical-align: middle;\n",
       "    }\n",
       "\n",
       "    .dataframe tbody tr th {\n",
       "        vertical-align: top;\n",
       "    }\n",
       "\n",
       "    .dataframe thead th {\n",
       "        text-align: right;\n",
       "    }\n",
       "</style>\n",
       "<table border=\"1\" class=\"dataframe\">\n",
       "  <thead>\n",
       "    <tr style=\"text-align: right;\">\n",
       "      <th></th>\n",
       "      <th></th>\n",
       "      <th>content</th>\n",
       "      <th>tokens</th>\n",
       "    </tr>\n",
       "    <tr>\n",
       "      <th>title</th>\n",
       "      <th>heading</th>\n",
       "      <th></th>\n",
       "      <th></th>\n",
       "    </tr>\n",
       "  </thead>\n",
       "  <tbody>\n",
       "    <tr>\n",
       "      <th>Ukraine at the 2020 Summer Olympics</th>\n",
       "      <th>Shooting</th>\n",
       "      <td>Ukrainian shooters achieved quota places for t...</td>\n",
       "      <td>66</td>\n",
       "    </tr>\n",
       "    <tr>\n",
       "      <th>Italy at the 2020 Summer Olympics</th>\n",
       "      <th>Sport climbing</th>\n",
       "      <td>Italy entered three sport climbers into the Ol...</td>\n",
       "      <td>151</td>\n",
       "    </tr>\n",
       "    <tr>\n",
       "      <th>Aruba at the 2020 Summer Olympics</th>\n",
       "      <th>Shooting</th>\n",
       "      <td>Aruba received an invitation from the Triparti...</td>\n",
       "      <td>54</td>\n",
       "    </tr>\n",
       "    <tr>\n",
       "      <th>2020 Summer Olympics opening ceremony</th>\n",
       "      <th>Let the Games Begin &amp; Time to Shine</th>\n",
       "      <td>A video sequence showed the history of the Oly...</td>\n",
       "      <td>374</td>\n",
       "    </tr>\n",
       "    <tr>\n",
       "      <th>Tajikistan at the 2020 Summer Olympics</th>\n",
       "      <th>Swimming</th>\n",
       "      <td>Tajikistan received a universality invitation ...</td>\n",
       "      <td>50</td>\n",
       "    </tr>\n",
       "  </tbody>\n",
       "</table>\n",
       "</div>"
      ],
      "text/plain": [
       "                                                                                                                      content  \\\n",
       "title                                  heading                                                                                  \n",
       "Ukraine at the 2020 Summer Olympics    Shooting                             Ukrainian shooters achieved quota places for t...   \n",
       "Italy at the 2020 Summer Olympics      Sport climbing                       Italy entered three sport climbers into the Ol...   \n",
       "Aruba at the 2020 Summer Olympics      Shooting                             Aruba received an invitation from the Triparti...   \n",
       "2020 Summer Olympics opening ceremony  Let the Games Begin & Time to Shine  A video sequence showed the history of the Oly...   \n",
       "Tajikistan at the 2020 Summer Olympics Swimming                             Tajikistan received a universality invitation ...   \n",
       "\n",
       "                                                                            tokens  \n",
       "title                                  heading                                      \n",
       "Ukraine at the 2020 Summer Olympics    Shooting                                 66  \n",
       "Italy at the 2020 Summer Olympics      Sport climbing                          151  \n",
       "Aruba at the 2020 Summer Olympics      Shooting                                 54  \n",
       "2020 Summer Olympics opening ceremony  Let the Games Begin & Time to Shine     374  \n",
       "Tajikistan at the 2020 Summer Olympics Swimming                                 50  "
      ]
     },
     "execution_count": 2,
     "metadata": {},
     "output_type": "execute_result"
    }
   ],
   "source": [
    "# This dataset has already been split into sections, one row for each section of the Wikipedia page.\n",
    "\n",
    "df = pd.read_csv('olympics-data/olympics_sections.csv')\n",
    "df = df.set_index([\"title\", \"heading\"])\n",
    "print(f\"{len(df)} rows in the data.\")\n",
    "df.sample(5)"
   ]
  },
  {
   "cell_type": "code",
   "execution_count": 10,
   "id": "c4870552",
   "metadata": {},
   "outputs": [],
   "source": [
    "def get_embedding(text: str, model: str=EMBEDDING_MODEL) -> list:\n",
    "    result = openai.Embedding.create(\n",
    "      model=model,\n",
    "      input=text\n",
    "    )\n",
    "    return result[\"data\"][0][\"embedding\"]\n",
    "\n",
    "def compute_doc_embeddings(df: pd.DataFrame) -> dict:\n",
    "    \"\"\"\n",
    "    Create an embedding for each row in the dataframe using the OpenAI Embeddings API.\n",
    "    \n",
    "    Return a dictionary that maps between each embedding vector and the index of the row that it corresponds to.\n",
    "    \"\"\"\n",
    "    return {\n",
    "        idx: get_embedding(r.content) for idx, r in df.iterrows()\n",
    "    }\n",
    "\n",
    "def load_embeddings(fname: str) -> dict:\n",
    "    \"\"\"\n",
    "    Read the document embeddings and their keys from a CSV.\n",
    "    \n",
    "    fname is the path to a CSV with exactly these named columns: \n",
    "        \"title\", \"heading\", \"0\", \"1\", ... up to the length of the embedding vectors.\n",
    "    \"\"\"\n",
    "    \n",
    "    df = pd.read_csv(fname, header=0)\n",
    "    max_dim = max([int(c) for c in df.columns if c != \"title\" and c != \"heading\"])\n",
    "    return {\n",
    "           (r.title, r.heading): [r[str(i)] for i in range(max_dim + 1)] for _, r in df.iterrows()\n",
    "    }\n"
   ]
  },
  {
   "cell_type": "code",
   "execution_count": 11,
   "id": "b6ecead8",
   "metadata": {},
   "outputs": [],
   "source": [
    "document_embeddings = load_embeddings('olympics-data/olympics_sections_document_embeddings.csv')\n"
   ]
  },
  {
   "cell_type": "code",
   "execution_count": 12,
   "id": "e4588ba9",
   "metadata": {},
   "outputs": [
    {
     "name": "stdout",
     "output_type": "stream",
     "text": [
      "('2020 Summer Olympics', 'Summary') : [0.0037565305829048, -0.0061981128528714, -0.0087078781798481, -0.0071364338509738, -0.0025227521546185]... (1536 entries)\n"
     ]
    }
   ],
   "source": [
    "# An example embedding:\n",
    "example_entry = list(document_embeddings.items())[0]\n",
    "print(f\"{example_entry[0]} : {example_entry[1][:5]}... ({len(example_entry[1])} entries)\")"
   ]
  },
  {
   "cell_type": "code",
   "execution_count": null,
   "id": "64856781",
   "metadata": {},
   "outputs": [],
   "source": []
  }
 ],
 "metadata": {
  "kernelspec": {
   "display_name": "Python 3",
   "language": "python",
   "name": "python3"
  },
  "language_info": {
   "codemirror_mode": {
    "name": "ipython",
    "version": 3
   },
   "file_extension": ".py",
   "mimetype": "text/x-python",
   "name": "python",
   "nbconvert_exporter": "python",
   "pygments_lexer": "ipython3",
   "version": "3.8.8"
  }
 },
 "nbformat": 4,
 "nbformat_minor": 5
}
