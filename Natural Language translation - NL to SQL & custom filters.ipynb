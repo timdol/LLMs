{
 "cells": [
  {
   "cell_type": "code",
   "execution_count": 1,
   "id": "e283f39d",
   "metadata": {},
   "outputs": [],
   "source": [
    "import numpy as np\n",
    "import openai\n",
    "from string import Template\n",
    "\n",
    "openai.api_key_path = '/home/tim/projects/openai/apikey.txt'"
   ]
  },
  {
   "cell_type": "markdown",
   "id": "4324248d",
   "metadata": {},
   "source": [
    "## Exploring two different kinds of natural language -> query language translation\n",
    "\n",
    "* NL -> SQL\n",
    "* NL -> filter description\n",
    "  * Filter descriptions are tuples of (column, operator, value)\n",
    "  \n",
    "### A lot of this is inspired by the cool stuff in the OpenAI cookbook:\n",
    "https://github.com/openai/openai-cookbook"
   ]
  },
  {
   "cell_type": "code",
   "execution_count": 2,
   "id": "c6352504",
   "metadata": {},
   "outputs": [],
   "source": [
    "# Which completion model to use?  Will the code model be better \n",
    "# at this than the bigger-but-more-general text model?\n",
    "\n",
    "MODELS = {\n",
    "    \"code\":'',\n",
    "    \"text1\": \"text-davinci-003\"\n",
    "}"
   ]
  },
  {
   "cell_type": "markdown",
   "id": "ebb379db",
   "metadata": {},
   "source": [
    "## These strings are prompt templates that describe a toy database table to be queried"
   ]
  },
  {
   "cell_type": "code",
   "execution_count": 3,
   "id": "645331cd",
   "metadata": {},
   "outputs": [],
   "source": [
    "# Look at me prompt engineering.\n",
    "\n",
    "sql_prompt = Template(\"\"\"\n",
    "    Answer the question as truthfully as possible, and if you're unsure of the answer, say \"Sorry, I don't know\".\n",
    "\n",
    "Assume we have a sql table with this schema: \n",
    "\n",
    "table cell_metadata (\n",
    "  cell_id: int not null,\n",
    "  age: float not null,\n",
    "  sex: varchar(8) not null\n",
    "  roi: varchar(8) not null,\n",
    "  data: jsonb\n",
    ");\n",
    "\n",
    "The possible values for the column 'sex' are 'M' or 'F' or 'UNKNOWN'.\n",
    "'M' is an abbreviation for Male, 'F'' for female.\n",
    "\n",
    "roi stands for Region Of Interest, which is sometimes understood to be a 'structure' or 'area'. Common \n",
    "structures are well known in brain anatomy, for example striatum or cortex or hypothalamus.\n",
    "\n",
    "An age greater than or equal to 56 is considered adult.  Ages below 56 and above 14 are considered juvenile.  \n",
    "Ages below 14 are pups.\n",
    "\n",
    "Translate the question below into a sql query on the cell_metadata table\n",
    "\n",
    "Q: $q\n",
    "    \"\"\")\n",
    "\n",
    "cell_filter_prompt = Template(\"\"\"\n",
    "Answer the question as truthfully as possible, and if you're unsure of the answer, say \"Sorry, I don't know\".\n",
    "\n",
    "Assume we have a sql table with this schema: \n",
    "\n",
    "table cell_metadata (\n",
    "  cell_id: int not null,\n",
    "  age: float not null,\n",
    "  sex: varchar(8) not null\n",
    "  roi: varchar(8) not null,\n",
    "  data: jsonb\n",
    ");\n",
    "\n",
    "The possible values for the column 'sex' are 'M' or 'F' or 'UNKNOWN'. \n",
    "'M' is an abbreviation for Male, 'F'' for female.\n",
    "\n",
    "roi stands for Region Of Interest, which is sometimes understood to be a 'structure' or 'area'.  Common \n",
    "structures are well known in brain anatomy, for example striatum or cortex or hypothalamus.\n",
    "\n",
    "An age greater than or equal to 56 is considered adult.  Ages below 56 and above 14 are considered juvenile.  \n",
    "Ages below 14 are pups.\n",
    "\n",
    "We can filter this table by specifying the column name, a comparison operator, and the value to compare it to, \n",
    "returning all results that match the filter.  Each WHERE clause in this filter can be specified as a JSON\n",
    "object, like so:\n",
    "\n",
    "{\"column\": column_name, \"op\": comparison_operator, \"value\": value_to_filter_by}\n",
    "\n",
    "for example, the sql query \"select * from cell_metadata where age >= 56\" could be represented as \n",
    "{\"column\": \"age\", \"op\": \">=\", \"value\": 56}\n",
    "\n",
    "We can combine these JSON-encoded WHERE clauses in an array, for example, the sql query\n",
    "\"select * from cell_metadata where age >= 56 and sex = 'M'\" would be translated as:\n",
    "[\n",
    "    {\"column\": \"age\", \"op\": \">=\", \"value\": 56},\n",
    "    {\"column\": \"sex\", \"op\": \"=\", \"value\": 'M'}\n",
    "]\n",
    "\n",
    "Translate the question below on the cell_metadata table. \n",
    "\n",
    "Q: $q\n",
    "\"\"\")\n",
    "\n",
    "general_question = Template(\"\"\"\n",
    "Answer the question as truthfully as possible, and if you're unsure of the answer, say \"Sorry, I don't know\".\n",
    "\n",
    "Q: $q\n",
    "\"\"\")\n",
    "                   \n",
    "\n",
    "free = Template(\"\"\"\n",
    "$q\n",
    "\"\"\")\n",
    "\n",
    "PROMPTS = {\n",
    "    \"cells_sql\": sql_prompt,\n",
    "    \"cells_filter\": cell_filter_prompt,\n",
    "    \"general\": general_question,\n",
    "    \"free\": free\n",
    "}"
   ]
  },
  {
   "cell_type": "code",
   "execution_count": 4,
   "id": "3276b378",
   "metadata": {},
   "outputs": [],
   "source": [
    "# Given a prompt and a question, return a translation from NL.\n",
    "# The key parameter that we're varying in his notebook is translation_type, which\n",
    "# selects for one of the prompts designed above.\n",
    "\n",
    "def translate_question(q, translation_type, completion_model='text1', temp=0, max_tokens=300):\n",
    "    \n",
    "    prompt = PROMPTS[translation_type]\n",
    "    \n",
    "    r = openai.Completion.create(\n",
    "        prompt=prompt.substitute({'q': q}),\n",
    "        temperature=temp,\n",
    "        max_tokens=max_tokens,\n",
    "        model=MODELS[completion_model]\n",
    "    )[\"choices\"][0][\"text\"].strip(\" \\n\")       \n",
    "    r = r.replace('A:', '').strip()\n",
    "    \n",
    "    return r"
   ]
  },
  {
   "cell_type": "markdown",
   "id": "e7f93e72",
   "metadata": {},
   "source": [
    "## That's surprisingly little work to make this happen"
   ]
  },
  {
   "cell_type": "code",
   "execution_count": 5,
   "id": "1db1bed2",
   "metadata": {},
   "outputs": [
    {
     "name": "stdout",
     "output_type": "stream",
     "text": [
      "SELECT data FROM cell_metadata WHERE age >= 56 AND roi = 'foo' AND sex != 'UNKNOWN';\n"
     ]
    }
   ],
   "source": [
    "r = translate_question(\"Show me the data for just the adult cells, only for the roi foo\", 'cells_sql')\n",
    "print(r)"
   ]
  },
  {
   "cell_type": "code",
   "execution_count": 6,
   "id": "74cea1f0",
   "metadata": {},
   "outputs": [
    {
     "name": "stdout",
     "output_type": "stream",
     "text": [
      "[\n",
      "    {\"column\": \"age\", \"op\": \">=\", \"value\": 56},\n",
      "    {\"column\": \"roi\", \"op\": \"=\", \"value\": 'foo'}\n",
      "]\n"
     ]
    }
   ],
   "source": [
    "r = translate_question(\"Show me the data for just the adult cells, only for the roi foo\", 'cells_filter')\n",
    "print(r)"
   ]
  },
  {
   "cell_type": "code",
   "execution_count": 7,
   "id": "e0a077a7",
   "metadata": {},
   "outputs": [
    {
     "data": {
      "text/plain": [
       "'[\\n    {\"column\": \"age\", \"op\": \">=\", \"value\": 56},\\n    {\"column\": \"roi\", \"op\": \"LIKE\", \"value\": \\'%CTX%\\'}\\n]'"
      ]
     },
     "execution_count": 7,
     "metadata": {},
     "output_type": "execute_result"
    }
   ],
   "source": [
    "translate_question('Show me the data for just the adult cells, if the roi includes the term CTX', 'cells_filter')"
   ]
  },
  {
   "cell_type": "code",
   "execution_count": 8,
   "id": "a5e86873",
   "metadata": {},
   "outputs": [
    {
     "data": {
      "text/plain": [
       "\"SELECT data FROM cell_metadata WHERE age >= 56 AND roi = 'foo';\""
      ]
     },
     "execution_count": 8,
     "metadata": {},
     "output_type": "execute_result"
    }
   ],
   "source": [
    "translate_question(\"what's the data for just the adult cells, only for the roi 'foo'\", 'cells_sql')"
   ]
  },
  {
   "cell_type": "code",
   "execution_count": 9,
   "id": "f0140830",
   "metadata": {},
   "outputs": [
    {
     "data": {
      "text/plain": [
       "\"SELECT data \\nFROM cell_metadata \\nWHERE (age >= 56 AND sex = 'M' OR sex = 'F') \\nOR (age > 32 AND age < 56 AND sex = 'M' OR sex = 'F');\""
      ]
     },
     "execution_count": 9,
     "metadata": {},
     "output_type": "execute_result"
    }
   ],
   "source": [
    "translate_question(\"what's the data for adult cells, or for juveile cells where the age > 32\", 'cells_sql')"
   ]
  },
  {
   "cell_type": "markdown",
   "id": "9199c35d",
   "metadata": {},
   "source": [
    "## But people don't usually cooperate in asking well-formed questions:"
   ]
  },
  {
   "cell_type": "code",
   "execution_count": 10,
   "id": "db90516f",
   "metadata": {},
   "outputs": [
    {
     "data": {
      "text/plain": [
       "'[{\"column\": \"roi\", \"op\": \"=\", \"value\": \"cortex\"}]'"
      ]
     },
     "execution_count": 10,
     "metadata": {},
     "output_type": "execute_result"
    }
   ],
   "source": [
    "translate_question('Just in the cortex', 'cells_filter')"
   ]
  },
  {
   "cell_type": "code",
   "execution_count": 11,
   "id": "4724d5f2",
   "metadata": {},
   "outputs": [
    {
     "data": {
      "text/plain": [
       "\"Sorry, I don't know.\""
      ]
     },
     "execution_count": 11,
     "metadata": {},
     "output_type": "execute_result"
    }
   ],
   "source": [
    "translate_question('How about young mice?', 'cells_filter')"
   ]
  },
  {
   "cell_type": "code",
   "execution_count": 12,
   "id": "95b9ebe6",
   "metadata": {},
   "outputs": [
    {
     "data": {
      "text/plain": [
       "\"Sorry, I don't know.\""
      ]
     },
     "execution_count": 12,
     "metadata": {},
     "output_type": "execute_result"
    }
   ],
   "source": [
    "translate_question('Is there any difference between male & female?', 'cells_filter')"
   ]
  },
  {
   "cell_type": "code",
   "execution_count": 13,
   "id": "dc8df546",
   "metadata": {},
   "outputs": [
    {
     "data": {
      "text/plain": [
       "\"SELECT * FROM cell_metadata WHERE roi = 'striatum';\""
      ]
     },
     "execution_count": 13,
     "metadata": {},
     "output_type": "execute_result"
    }
   ],
   "source": [
    "translate_question('What do you know about the striatum?', 'cells_sql')"
   ]
  },
  {
   "cell_type": "code",
   "execution_count": 14,
   "id": "2930945c",
   "metadata": {},
   "outputs": [
    {
     "data": {
      "text/plain": [
       "'The striatum is a part of the brain that is involved in reward, motivation, and motor control. It is composed of the caudate nucleus, the putamen, and the nucleus accumbens.'"
      ]
     },
     "execution_count": 14,
     "metadata": {},
     "output_type": "execute_result"
    }
   ],
   "source": [
    "# This same question might be more broadly directed\n",
    "translate_question('What do you know about the striatum?', 'general')"
   ]
  },
  {
   "cell_type": "markdown",
   "id": "8f505004",
   "metadata": {},
   "source": [
    "## The column/operator/value format has limitations that the SQL version does not, such as answering aggregate questions"
   ]
  },
  {
   "cell_type": "code",
   "execution_count": 15,
   "id": "2d42a932",
   "metadata": {},
   "outputs": [
    {
     "data": {
      "text/plain": [
       "\"Sorry, I don't know.\""
      ]
     },
     "execution_count": 15,
     "metadata": {},
     "output_type": "execute_result"
    }
   ],
   "source": [
    "translate_question('What percentage of the cells are from males?', 'cells_filter')"
   ]
  },
  {
   "cell_type": "code",
   "execution_count": 16,
   "id": "b476a2ee",
   "metadata": {},
   "outputs": [
    {
     "data": {
      "text/plain": [
       "\"SELECT COUNT(*) * 100.0 / (SELECT COUNT(*) FROM cell_metadata)\\nFROM cell_metadata\\nWHERE sex = 'M';\""
      ]
     },
     "execution_count": 16,
     "metadata": {},
     "output_type": "execute_result"
    }
   ],
   "source": [
    "# The SQL translation of the same question seems possible... Is that valid SQL?  \n",
    "# It seems as if the intent has been understood...\n",
    "translate_question('What percentage of the cells are from males?', 'cells_sql')"
   ]
  },
  {
   "cell_type": "code",
   "execution_count": 17,
   "id": "d9c7ff3d",
   "metadata": {},
   "outputs": [
    {
     "data": {
      "text/plain": [
       "\"SELECT COUNT(*) FROM cell_metadata WHERE sex = 'M';\\nSELECT COUNT(*) FROM cell_metadata WHERE sex = 'F';\""
      ]
     },
     "execution_count": 17,
     "metadata": {},
     "output_type": "execute_result"
    }
   ],
   "source": [
    "# Interesting; it responds with two separate queries for the two seprate questions\n",
    "translate_question('How many males are in the data set?  How many females?', 'cells_sql')"
   ]
  },
  {
   "cell_type": "markdown",
   "id": "bcdbbd08",
   "metadata": {},
   "source": [
    "### There's a whole new world of sql injection attacks opening up"
   ]
  },
  {
   "cell_type": "markdown",
   "id": "81138659",
   "metadata": {},
   "source": [
    "## This might be an instance where fine-tuning a model makes sense.  See:\n",
    "https://beta.openai.com/docs/guides/fine-tuning\n",
    "\n",
    "* provide 200+ examples of queries + answers, the more the better.\n",
    "* these should be easy to come up with/generate.\n",
    "* the goal of the examples would be to describe the kinds of queries and the domain of the tables(s).\n",
    "* perhaps the kinds of clarifying questions to respond with"
   ]
  },
  {
   "cell_type": "markdown",
   "id": "1cd37116",
   "metadata": {},
   "source": [
    "## Adding a general response if the question doesn't fit the table"
   ]
  },
  {
   "cell_type": "code",
   "execution_count": 18,
   "id": "64fa80fc",
   "metadata": {},
   "outputs": [
    {
     "name": "stdout",
     "output_type": "stream",
     "text": [
      "SELECT DISTINCT data->'cell_type' FROM cell_metadata;\n"
     ]
    }
   ],
   "source": [
    "# Fascinating!  The model assumes that the 'cell type' is a field in the JSONB, and forms an appropriate query!\n",
    "q = 'What are the canonical cell types in the brain?'\n",
    "r = translate_question(q, 'cells_sql')\n",
    "if r == \"Sorry, I don't know.\":\n",
    "    r = translate_question(q, 'general')\n",
    "    \n",
    "print(r)"
   ]
  },
  {
   "cell_type": "code",
   "execution_count": 19,
   "id": "e5ae5e3a",
   "metadata": {},
   "outputs": [
    {
     "name": "stdout",
     "output_type": "stream",
     "text": [
      "Yes, the hippocampus is involved in memory formation.\n"
     ]
    }
   ],
   "source": [
    "\n",
    "q = 'Is the hippocampus involved in memory formation?'\n",
    "r = translate_question(q, 'cells_sql')\n",
    "if r == \"Sorry, I don't know.\":\n",
    "    r = translate_question(q, 'general')\n",
    "    \n",
    "print(r)"
   ]
  },
  {
   "cell_type": "code",
   "execution_count": 20,
   "id": "139d9bc2",
   "metadata": {},
   "outputs": [
    {
     "name": "stdout",
     "output_type": "stream",
     "text": [
      "The mechanism of memory formation in the hippocampus is believed to involve the strengthening of synaptic connections between neurons through a process known as long-term potentiation (LTP).\n"
     ]
    }
   ],
   "source": [
    "q = 'What is the mechanism of memory formation in the hippocampus?'\n",
    "r = translate_question(q, 'cells_sql')\n",
    "if r == \"Sorry, I don't know.\":\n",
    "    r = translate_question(q, 'general')\n",
    "    \n",
    "print(r)"
   ]
  },
  {
   "cell_type": "code",
   "execution_count": 21,
   "id": "e5497b4c",
   "metadata": {},
   "outputs": [
    {
     "name": "stdout",
     "output_type": "stream",
     "text": [
      "SELECT * FROM cell_metadata WHERE roi = 'hippocampus';\n"
     ]
    }
   ],
   "source": [
    "q = 'Well then you better show me data for cells in the hippocampus too.'\n",
    "r = translate_question(q, 'cells_sql')\n",
    "if r == \"Sorry, I don't know.\":\n",
    "    r = translate_question(q, 'general')\n",
    "    \n",
    "print(r)"
   ]
  },
  {
   "cell_type": "code",
   "execution_count": 22,
   "id": "53c9e04a",
   "metadata": {},
   "outputs": [
    {
     "name": "stdout",
     "output_type": "stream",
     "text": [
      "The airspeed of a European swallow is approximately 11 meters per second (24 miles per hour). (Beware, this might be made up!)\n"
     ]
    }
   ],
   "source": [
    "# It should know this!  Add an extra free-form query for thiings that can't be answered with confidence (lie to me)\n",
    "q = 'What is the airspeed of a European swallow?'\n",
    "r = translate_question(q, 'cells_sql')\n",
    "if r == \"Sorry, I don't know.\":\n",
    "    r = translate_question(q, 'general')\n",
    "if r == \"Sorry, I don't know.\":\n",
    "    r = translate_question(q, 'free') + (\" (Beware, this might be made up!)\")\n",
    "        \n",
    "print(r)"
   ]
  },
  {
   "cell_type": "code",
   "execution_count": null,
   "id": "3bd4ce39",
   "metadata": {},
   "outputs": [],
   "source": []
  }
 ],
 "metadata": {
  "kernelspec": {
   "display_name": "Python 3",
   "language": "python",
   "name": "python3"
  },
  "language_info": {
   "codemirror_mode": {
    "name": "ipython",
    "version": 3
   },
   "file_extension": ".py",
   "mimetype": "text/x-python",
   "name": "python",
   "nbconvert_exporter": "python",
   "pygments_lexer": "ipython3",
   "version": "3.8.8"
  }
 },
 "nbformat": 4,
 "nbformat_minor": 5
}
