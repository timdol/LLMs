{
 "cells": [
  {
   "cell_type": "code",
   "execution_count": 10,
   "id": "23779186",
   "metadata": {},
   "outputs": [],
   "source": [
    "import numpy as np\n",
    "import openai\n",
    "from string import Template\n",
    "import re\n",
    "import pypandoc\n",
    "\n",
    "openai.api_key_path = '/home/tim/projects/openai/apikey.txt'"
   ]
  },
  {
   "cell_type": "code",
   "execution_count": 2,
   "id": "078878db",
   "metadata": {},
   "outputs": [],
   "source": [
    "# Which completion model to use?  \n",
    "\n",
    "MODELS = {\n",
    "    \"something_else\":'',\n",
    "    \"text1\": \"text-davinci-003\"\n",
    "}"
   ]
  },
  {
   "cell_type": "code",
   "execution_count": 101,
   "id": "5dad9502",
   "metadata": {},
   "outputs": [],
   "source": [
    "# Look at me prompt engineering.\n",
    "\n",
    "topics = Template(\"\"\"\n",
    "I'm going to ask you to summarize a meeting transcript.  The transcript will contain a marker for each speaker's \n",
    "utterance, which you can ignore.  \n",
    "\n",
    "Here's an eample of a marker for a speaker named Tim Dolbeare:\n",
    "\n",
    "0:1:47.940 --> 0:1:48.410\n",
    "Tim Dolbeare\n",
    "\n",
    "Where's an example of a marker for a speaker named Lydia Ng:\n",
    "\n",
    "0:1:26.950 --> 0:1:41.660\n",
    "David Feng\n",
    "\n",
    "Please start your summary with a bulleted list of topics, and then a second bulleted containing a summary of each topic.\n",
    "\n",
    "Here's the transcript:\n",
    "    \n",
    "$q   \n",
    "\"\"\")\n",
    "\n",
    "summary = Template(\"\"\"\n",
    "I'm going to ask you to summarize a meeting transcript.\n",
    "\n",
    "\n",
    "Please list the topics discussed, and then summarize the discussion as a single paragraph, and then list any actions decided upon.\n",
    "\n",
    "Here's the transcript:\n",
    "    \n",
    "$q   \n",
    "\"\"\")\n",
    "\n",
    "super_sum = Template(\"\"\"\n",
    "I'm going to ask you to summarize a collection of meeting summaries.  Each of the \n",
    "summaries has some topics, a paragraph of summary text, and may also have a list of actions to be taken.\n",
    "\n",
    "Here's the transcript:\n",
    "    \n",
    "$q   \n",
    "\"\"\")\n",
    "\n",
    "\n",
    "general_question = Template(\"\"\"\n",
    "Answer the question as truthfully as possible, and if you're unsure of the answer, say \"Sorry, I don't know\".\n",
    "\n",
    "Q: $q\n",
    "\"\"\")\n",
    "                   \n",
    "\n",
    "free = Template(\"\"\"\n",
    "$q\n",
    "\"\"\")\n",
    "\n",
    "PROMPTS = {\n",
    "    \"topics\": topics,\n",
    "    \"summary\": summary,\n",
    "    \"general\": general_question,\n",
    "    \"super_sum\": super_sum,\n",
    "    \"free\": free\n",
    "}"
   ]
  },
  {
   "cell_type": "markdown",
   "id": "fc512808",
   "metadata": {},
   "source": [
    "### What Do?\n",
    "* Convert docx to txt\n",
    "* Pre-process txt to remove chaff\n",
    "* chunk and summarize\n",
    "  * chunk txt into summarizeable pieces\n",
    "  * summarize each chunk\n",
    "  * combine summaries\n"
   ]
  },
  {
   "cell_type": "code",
   "execution_count": 43,
   "id": "819caed6",
   "metadata": {},
   "outputs": [],
   "source": [
    "def word_to_text(word_file, text_file_name):\n",
    "    pypandoc.convert_file(word_file, 'plain', outputfile=text_file_name)\n",
    "    return text_file_name"
   ]
  },
  {
   "cell_type": "code",
   "execution_count": null,
   "id": "ec13bb33",
   "metadata": {},
   "outputs": [],
   "source": [
    "def load_transcript(file_name):\n",
    "    with open(file_name) as f:\n",
    "        return f.read()       "
   ]
  },
  {
   "cell_type": "code",
   "execution_count": 44,
   "id": "d6f67bd3",
   "metadata": {},
   "outputs": [],
   "source": [
    "def preprocess_transcript(transcript):\n",
    "    # remove timestamps\n",
    "    temp = re.sub(\"[0-9]{1,2}:[0-9]{1,2}:[0-9]{1,2}\\.[0-9]{1,3} --> [0-9]{1,2}:[0-9]{1,2}:[0-9]{1,2}\\.[0-9]{1,3}\\n\", '', transcript)\n",
    "    return temp"
   ]
  },
  {
   "cell_type": "code",
   "execution_count": 45,
   "id": "89c2729a",
   "metadata": {},
   "outputs": [],
   "source": [
    "def chunk_text(text, chunk_size=10000):\n",
    "    total = len(text)\n",
    "    chunk_count = (total//chunk_size) + 1\n",
    "\n",
    "    chunks = []\n",
    "    for i in range(0,chunk_count):\n",
    "        start = i*chunk_size\n",
    "        end = min(start+chunk_size, total)\n",
    "        chunks.append(text[start:end])\n",
    "\n",
    "    return chunks"
   ]
  },
  {
   "cell_type": "code",
   "execution_count": 55,
   "id": "71880700",
   "metadata": {},
   "outputs": [],
   "source": [
    "# Given a prompt and a question, return a translation from NL.\n",
    "# The key parameter that we're varying in his notebook is translation_type, which\n",
    "# selects for one of the prompts designed above.\n",
    "\n",
    "def submit_prompt(q, translation_type, completion_model='text1', temp=0, max_tokens=900):\n",
    "    \n",
    "    prompt = PROMPTS[translation_type]\n",
    "    \n",
    "    r = openai.Completion.create(\n",
    "        prompt=prompt.substitute({'q': q}),\n",
    "        temperature=temp,\n",
    "        max_tokens=max_tokens,\n",
    "        model=MODELS[completion_model]\n",
    "    )[\"choices\"][0][\"text\"].strip(\" \\n\")       \n",
    "    r = r.replace('A:', '').strip()\n",
    "    \n",
    "    return f\"\\n{r}\\n\""
   ]
  },
  {
   "cell_type": "code",
   "execution_count": null,
   "id": "78df9c27",
   "metadata": {},
   "outputs": [],
   "source": [
    "def summarize_chunks(chunks, prompt='summary', max_tokens=900):\n",
    "    r = ''\n",
    "    for chunk in chunks:\n",
    "        r += submit_prompt(chunk, prompt, max_tokens=max_tokens)\n",
    "        \n",
    "    return r"
   ]
  },
  {
   "cell_type": "code",
   "execution_count": 72,
   "id": "7221fe95",
   "metadata": {},
   "outputs": [
    {
     "name": "stdout",
     "output_type": "stream",
     "text": [
      "\n",
      "In this meeting, the participants discussed the need for identity management for a cloud service, Code Ocean, and how to integrate it with existing services. They discussed the possibility of using AWS Identity Center, Cognito, and GPT Team Bearer Off. They also discussed the need to be able to share with collaborators and partition access to resources within the cloud. Finally, they discussed the possibility of using attributes to provide different roles for different projects. No actions were decided upon.\n",
      "\n",
      "avid\n",
      "And then you've got the UW data scientists, which is a different\n",
      "identity provider.\n",
      "\n",
      "Aiken, David\n",
      "And then you've got the AWS OPS, which is a different identity provider.\n",
      "\n",
      "Aiken, David\n",
      "So the challenge here is how do we manage all of these different\n",
      "identity providers in one place? And the idea is to use a third-party\n",
      "solution like Cognito to manage all of these different identities and\n",
      "provide access to the different apps. The other option is to use an\n",
      "identity provider like Orchid, which would allow for access to the apps\n",
      "without the need for a third-party solution. The discussion then turned\n",
      "to the use of Azure AD, which could be used to manage the identities of\n",
      "the Allen Institute and UW data scientists, and provide access to the\n",
      "apps. No decisions were made, but the group agreed to further research\n",
      "the options and come back with a recommendation.\n",
      "\n",
      "Aiken, David\n",
      "Topics discussed:\n",
      "- Access control for different users from different organizations\n",
      "- Federating with identity providers\n",
      "- Using Azure AD, Cognito, or Octa\n",
      "- Using AWS Identity Center to manage groups and access\n",
      "- Using Azure AD B2C\n",
      "- Using existing AD tenant\n",
      "\n",
      "Summary:\n",
      "The participants discussed the need for access control for different users from different organizations. They discussed the possibility of federating with identity providers such as Azure AD, Cognito, or Octa. They also discussed the possibility of using AWS Identity Center to manage groups and access, as well as using Azure AD B2C and an existing AD tenant.\n",
      "\n",
      "Actions Decided Upon:\n",
      "- Do due diligence around looking at Cognito and Octa\n",
      "- Consider using Azure AD B2C\n",
      "- Consider using existing AD tenant\n",
      "\n",
      "Summary:\n",
      "\n",
      "Rob Young and Ashmeet Pahwa discussed the use of Azure AD B2C for identities of Allen Institute employees, and the possibility of using an AWS product to replace the B2C tenant. They discussed the possibility of using Azure AD to replicate user groups to Code Ocean, and the need for a separate group for Code Ocean. They also discussed the possibility of using the B2C tenant as a resource of record for managing identities and groups, and registering Code Ocean to Azure. Lastly, they discussed the use case of a service that would associate users to projects with roles, and the need to filter data and automate permissions.\n",
      "\n",
      "Summary: The participants discussed the need for a role for Allen Institute data, and the need to filter data based on project. They discussed the need for a user to have access to multiple projects, with different levels of permissions (owner, contributor, reader). They discussed the need for application logic to filter data, and the need for temporary credentials to access S3 buckets. They discussed the need for a service account to transfer files, and the need to manage access to resources based on project level. They discussed the need to automate the connection between user and project, and to assign access to S3 buckets.\n",
      "\n",
      "Actions Decided Upon:\n",
      "- Create a role for Allen Institute data\n",
      "- Filter data based on project\n",
      "- Allow user access to multiple projects with different levels of permissions\n",
      "- Use application logic to filter data\n",
      "- Provide temporary credentials to access S3 buckets\n",
      "- Create a service account to transfer files\n",
      "- Manage access to resources based on project level\n",
      "- Automate the connection between user and project\n",
      "- Assign access to S3 buckets\n",
      "\n",
      "Topics Discussed: \n",
      "- Automating processes to ensure data is in sync\n",
      "- Providing an abstraction layer to make it look like a file system\n",
      "- Utilizing AWS Transfer Family to create an SFTP server\n",
      "\n",
      "Summary: \n",
      "The participants discussed ways to automate processes to ensure data is in sync. They discussed providing an abstraction layer to make it look like a file system, and also discussed utilizing AWS Transfer Family to create an SFTP server. They decided to have a huddle with Ashmeet and Mike to brainstorm ideas and come back with proposals or designs.\n",
      "\n"
     ]
    }
   ],
   "source": [
    "infile = '/home/tim/work/projects/transcripts/AWS_LZ_Fun_Time_2023-02-10.docx'\n",
    "outfile = '/home/tim/work/projects/transcripts/AWS_LZ_Fun_Time_2023-02-10.txt'\n",
    "\n",
    "transcript_file = word_to_text(infile, outfile)\n",
    "raw_transcript = load_transcript(transcript_file)\n",
    "preprocessed = preprocess_transcript(raw_transcript)\n",
    "chunks = chunk_text(preprocessed)\n",
    "sub_sums = summarize_chunks(chunks, prompt='summary', max_tokens=900)\n",
    "print(sub_sums)"
   ]
  },
  {
   "cell_type": "code",
   "execution_count": 102,
   "id": "53831854",
   "metadata": {},
   "outputs": [
    {
     "name": "stdout",
     "output_type": "stream",
     "text": [
      "\n",
      "avid\n",
      "And then you've got the UW data scientists, which is a different\n",
      "identity provider.\n",
      "\n",
      "Aiken, David\n",
      "And then you've got the AWS OPS, which is a different identity provider.\n",
      "\n",
      "Aiken, David\n",
      "So the challenge here is how do we manage all of these different\n",
      "identity providers in one place?\n",
      "\n",
      "Aiken, David\n",
      "And the question is, can we use Azure AD to manage all of these\n",
      "different identity providers? Or do we need to look for a third-party\n",
      "solution that sits between the multiple identity providers and the\n",
      "applications?\n",
      "\n",
      "Actions Decided Upon:\n",
      "- Research into using Azure AD to manage multiple identity providers\n",
      "- Research into using Cognito to integrate apps with identity providers\n",
      "- Research into using Orchid as an identity provider\n",
      "\n"
     ]
    }
   ],
   "source": [
    "mm = summarize_chunks([chunks[1]], prompt='summary', max_tokens=900)\n",
    "print(mm)"
   ]
  },
  {
   "cell_type": "code",
   "execution_count": 92,
   "id": "70d1298a",
   "metadata": {},
   "outputs": [
    {
     "name": "stdout",
     "output_type": "stream",
     "text": [
      "\n",
      "avid\n",
      "And then you've got the UW data scientists, which is a different\n",
      "identity provider.\n",
      "\n",
      "Aiken, David\n",
      "And then you've got the AWS OPS, which is a different identity provider.\n",
      "\n",
      "Aiken, David\n",
      "So the question is, can we use a single identity provider to manage\n",
      "access to all of these different applications? And if so, what identity\n",
      "provider should we use?\n",
      "\n",
      "In this meeting, the participants discussed the need for a single identity provider to manage access to multiple applications. They discussed the possibility of using Azure AD, Orchid, or AWS Cognito as the identity provider. They also discussed the need to ensure that access is revoked when users leave the organization. They discussed the possibility of using Azure AD to manage access and roles, and the possibility of using AWS to manage access. No action was decided upon.\n",
      "\n"
     ]
    }
   ],
   "source": []
  },
  {
   "cell_type": "code",
   "execution_count": 98,
   "id": "c4f20dc6",
   "metadata": {},
   "outputs": [
    {
     "name": "stdout",
     "output_type": "stream",
     "text": [
      "prompt: Please e-write the following text, removing anything taht doesn't seem usefull for summarization: \n",
      "avid\n",
      "And then you've got the UW data scientists, which is a different\n",
      "identity provider.\n",
      "\n",
      "Aiken, David\n",
      "And then you've got the AWS OPS, which is a different identity provider.\n",
      "\n",
      "Aiken, David\n",
      "So the question is, can we use a single identity provider to manage\n",
      "access to all of these different applications? And if so, what identity\n",
      "provider should we use?\n",
      "\n",
      "In this meeting, the participants discussed the need for a single identity provider to manage access to multiple applications. They discussed the possibility of using Azure AD, Orchid, or AWS Cognito as the identity provider. They also discussed the need to ensure that access is revoked when users leave the organization. They discussed the possibility of using Azure AD to manage access and roles, and the possibility of using AWS to manage access. No action was decided upon.\n",
      "\n",
      "Response: \n",
      "In this meeting, the participants discussed the need for a single identity provider to manage access to multiple applications. They discussed the possibility of using Azure AD, Orchid, or AWS Cognito. They also discussed the need to ensure access is revoked when users leave the organization. No action was decided upon.\n",
      "\n"
     ]
    }
   ],
   "source": [
    "p = \"Please e-write the following text, removing anything taht doesn't seem usefull for summarization: \" + mm\n",
    "print(f\"prompt: {p}\")\n",
    "\n",
    "q = submit_prompt(p, 'free', temp=0, max_tokens=1000)\n",
    "\n",
    "print(f\"Response: {q}\")"
   ]
  },
  {
   "cell_type": "code",
   "execution_count": 84,
   "id": "cc85f049",
   "metadata": {},
   "outputs": [
    {
     "name": "stdout",
     "output_type": "stream",
     "text": [
      "\n",
      "Please summarise the following:\n",
      "\n",
      "avid\n",
      "And then you've got the UW data scientists, which is a different\n",
      "identity provider.\n",
      "\n",
      "Aiken, David\n",
      "And then you've got the AWS OPS, which is a different identity provider.\n",
      "\n",
      "Aiken, David\n",
      "So the challenge here is how do we manage all of these different\n",
      "identity providers in one place? And is there a way to do that? Or do\n",
      "we need to look at a third-party solution that sits between the\n",
      "different identity providers and the applications?\n",
      "\n",
      "Summary:\n",
      "\n",
      "The meeting discussed the challenge of managing multiple identity providers for different users accessing different applications. They discussed the possibility of using an Azure tenant to manage the identities, as well as the possibility of using a third-party solution to sit between the identity providers and the applications. No actions were decided upon.\n",
      "\n"
     ]
    }
   ],
   "source": [
    "print(p)"
   ]
  },
  {
   "cell_type": "code",
   "execution_count": 68,
   "id": "a25a514a",
   "metadata": {},
   "outputs": [
    {
     "name": "stdout",
     "output_type": "stream",
     "text": [
      "\n",
      "Actions Decided Upon:\n",
      "- Have a huddle with Ashmeet and Mike to brainstorm ideas and come back with proposals or designs.\n",
      "\n"
     ]
    }
   ],
   "source": [
    "ss = submit_prompt(sub_sums, 'topics', max_tokens=2000)\n",
    "print(ss)"
   ]
  },
  {
   "cell_type": "code",
   "execution_count": 69,
   "id": "9a40a56b",
   "metadata": {},
   "outputs": [
    {
     "data": {
      "text/plain": [
       "1"
      ]
     },
     "execution_count": 69,
     "metadata": {},
     "output_type": "execute_result"
    }
   ],
   "source": [
    "cc = chunk_text(ss)\n",
    "len(cc)"
   ]
  },
  {
   "cell_type": "code",
   "execution_count": 70,
   "id": "f386024f",
   "metadata": {},
   "outputs": [
    {
     "name": "stdout",
     "output_type": "stream",
     "text": [
      "\n",
      "Topics discussed:\n",
      "- Using GPT 3 models to create notes\n",
      "- Using AWS Identity Center to manage users and user groups\n",
      "- Code Ocean requirement for identity management\n",
      "- Using Cognito in conjunction with Identity Center\n",
      "- Using GWT Team Bearer for identity management\n",
      "- Accessing S3 buckets through Code Ocean\n",
      "\n",
      "Summary:\n",
      "The group discussed using GPT 3 models to create notes, using AWS Identity Center to manage users and user groups, and the Code Ocean requirement for identity management. They discussed using Cognito in conjunction with Identity Center, using GWT Team Bearer for identity management, and accessing S3 buckets through Code Ocean.\n",
      "\n",
      "Actions Decided Upon:\n",
      "- Use GPT 3 models to create notes\n",
      "- Use AWS Identity Center to manage users and user groups\n",
      "- Use Cognito in conjunction with Identity Center\n",
      "- Use GWT Team Bearer for identity management\n",
      "- Access S3 buckets through Code Ocean\n",
      "\n",
      "avid\n",
      "And then you've got the UW data scientists, which is a different\n",
      "identity provider.\n",
      "\n",
      "Aiken, David\n",
      "And then you've got the AWS OPS, which is a different identity provider.\n",
      "\n",
      "Aiken, David\n",
      "So the question is, can we use a single identity provider to manage\n",
      "access to all of these different apps? And if so, what identity provider\n",
      "should we use?\n",
      "\n",
      "Summary:\n",
      "The meeting discussed the issue of managing access to various apps, such as Code Ocean, AWS Console, and other apps, for different users. The users include Allen Institute data scientists, UW data scientists, and AWS OPS. The discussion focused on the need to find an identity provider that can manage access to all of these different apps, and the possibility of using a single identity provider to do so. It was also discussed that using a single identity provider would allow for better control over user access, as it would be easier to revoke access when a user leaves or is no longer employed. No action was decided upon.\n",
      "\n",
      "Topics discussed:\n",
      "- Federating with Azure AD to give users access to different applications\n",
      "- Using AWS Cognito and Octa as potential solutions\n",
      "- Using Azure AD B2C\n",
      "- Using existing AD tenant\n",
      "- Using Code Ocean\n",
      "\n",
      "Summary:\n",
      "The group discussed the possibility of federating with Azure AD to give users access to different applications. They discussed using AWS Cognito and Octa as potential solutions, as well as Azure AD B2C and an existing AD tenant. They also discussed using Code Ocean, which is an application that runs in AWS and has an internal lightweight user database.\n",
      "\n",
      "Actions Decided Upon:\n",
      "- Do due diligence around looking at Cognito and Octa\n",
      "- Consider using Azure AD B2C\n",
      "- Consider using existing AD tenant\n",
      "\n",
      "Topics discussed: Using Azure AD B2C tenant to manage identities and groups, using AWS Identity Center to manage resources in AWS, using Azure AD to register Code Ocean, using Azure AD B2C tenant to manage projects and roles, using attribute based access control and tags to manage permissions.\n",
      "\n",
      "Summary: The meeting discussed using Azure AD B2C tenant to manage identities and groups, and using AWS Identity Center to manage resources in AWS. They discussed using Azure AD to register Code Ocean, and using Azure AD B2C tenant to manage projects and roles. They also discussed using attribute based access control and tags to manage permissions.\n",
      "\n",
      "Actions Decided Upon: Research if Azure AD B2C plays nice with Code Ocean, confirm if Azure AD B2C plays nice with Code Ocean, explore user replication in Azure AD, explore using a separate group for Code Ocean, explore using a custom script to push user attributes from Cognito User Pool, explore using a certificate and skim token to establish trust between Azure AD and AWS, explore using logic in the app to handle permissions, explore using cloud trail to identify attributes in the request.\n",
      "\n",
      "Topics discussed:\n",
      "- Creating roles for Allen Institute data\n",
      "- Creating multiple projects\n",
      "- Creating groups and assigning permissions\n",
      "- Creating roles for each project\n",
      "- Accessing S3 buckets\n",
      "- Automating connection between user and projects\n",
      "\n",
      "Summary:\n",
      "The meeting discussed creating roles for Allen Institute data, creating multiple projects, creating groups and assigning permissions, creating roles for each project, accessing S3 buckets, and automating the connection between user and projects. It was decided that there should be an owner, contributor, and reader role for each project, and that access to the S3 buckets should be managed by a service account with a secret key. It was also discussed that users should be given temporary credentials to access the S3 buckets, and that there should be a way to automate the connection between the user and the projects.\n",
      "\n",
      "Topics Discussed: \n",
      "1. Automating processes to ensure data is in sync\n",
      "2. Providing an abstraction layer that looks like a file system\n",
      "3. Managing permissions at that layer\n",
      "4. Looking into a service called Nasuni\n",
      "5. Looking into AWS Transfer Family\n",
      "\n",
      "Summary: The meeting discussed ways to automate processes to ensure data is in sync. They discussed providing an abstraction layer that looks like a file system and managing permissions at that layer. They looked into a service called Nasuni and AWS Transfer Family as potential solutions. The group decided to have a huddle with Ashmeet and Mike to brainstorm ideas and come back with proposals or designs.\n",
      "\n"
     ]
    }
   ],
   "source": [
    "print(sub_sums)"
   ]
  },
  {
   "cell_type": "code",
   "execution_count": null,
   "id": "7802d585",
   "metadata": {},
   "outputs": [],
   "source": []
  },
  {
   "cell_type": "code",
   "execution_count": null,
   "id": "c95b7041",
   "metadata": {},
   "outputs": [],
   "source": []
  },
  {
   "cell_type": "code",
   "execution_count": 4,
   "id": "67c58d31",
   "metadata": {},
   "outputs": [],
   "source": [
    "\n",
    "\n",
    "# Example file:\n",
    "infile = '/home/tim/work/projects/transcripts/AWS_LZ_Fun_Time_2023-02-10.docx'\n",
    "outfile = '/home/tim/work/projects/transcripts/AWS_LZ_Fun_Time_2023-02-10.txt'\n",
    "output = pypandoc.convert_file(infile, 'plain', outputfile=outfile)\n",
    "assert output == \"\""
   ]
  },
  {
   "cell_type": "code",
   "execution_count": 5,
   "id": "00772363",
   "metadata": {},
   "outputs": [],
   "source": [
    "    "
   ]
  },
  {
   "cell_type": "code",
   "execution_count": 6,
   "id": "6f9b0a88",
   "metadata": {},
   "outputs": [],
   "source": [
    "# Given a prompt and a question, return a translation from NL.\n",
    "# The key parameter that we're varying in his notebook is translation_type, which\n",
    "# selects for one of the prompts designed above.\n",
    "\n",
    "def submit_prompt(q, translation_type, completion_model='text1', temp=0, max_tokens=300):\n",
    "    \n",
    "    prompt = PROMPTS[translation_type]\n",
    "    \n",
    "    r = openai.Completion.create(\n",
    "        prompt=prompt.substitute({'q': q}),\n",
    "        temperature=temp,\n",
    "        max_tokens=max_tokens,\n",
    "        model=MODELS[completion_model]\n",
    "    )[\"choices\"][0][\"text\"].strip(\" \\n\")       \n",
    "    r = r.replace('A:', '').strip()\n",
    "    \n",
    "    return r"
   ]
  },
  {
   "cell_type": "code",
   "execution_count": 7,
   "id": "f046cebd",
   "metadata": {},
   "outputs": [],
   "source": [
    "def preprocess_transcript(transcript):\n",
    "    # remove timestamps\n",
    "    temp = re.sub(\"[0-9]{1,2}:[0-9]{1,2}:[0-9]{1,2}\\.[0-9]{1,3} --> [0-9]{1,2}:[0-9]{1,2}:[0-9]{1,2}\\.[0-9]{1,3}\\n\", '', transcript)\n",
    "    return temp"
   ]
  },
  {
   "cell_type": "code",
   "execution_count": 8,
   "id": "bba49663",
   "metadata": {},
   "outputs": [],
   "source": [
    "def load_transcript(file_name):\n",
    "    with open(file_name) as f:\n",
    "        return f.read()\n",
    "        "
   ]
  },
  {
   "cell_type": "code",
   "execution_count": 11,
   "id": "427dd471",
   "metadata": {},
   "outputs": [
    {
     "name": "stdout",
     "output_type": "stream",
     "text": [
      "number of chars in transcript: 72076\n",
      "Number of lines in transcript: 3023\n",
      "number of chars after removing timestamps: 54298\n",
      "number of lines after removing timestamps: 2366\n",
      "Number of words after preprocessing: 10004\n"
     ]
    }
   ],
   "source": [
    "transcript_txt = '/home/tim/work/projects/transcripts/AWS_LZ_Fun_Time_2023-02-10.txt'\n",
    "part1 = load_transcript(transcript_txt)\n",
    "print(f\"number of chars in transcript: {len(part1)}\")\n",
    "l = part1.count('\\n')\n",
    "print(f\"Number of lines in transcript: {l}\")\n",
    "#part1_1 = part1[:3600]\n",
    "part1 = preprocess_transcript(part1)\n",
    "print(f\"number of chars after removing timestamps: {len(part1)}\")\n",
    "l = part1.count('\\n')\n",
    "print(f\"number of lines after removing timestamps: {l}\")\n",
    "word_count = len(part1.split())\n",
    "print(f\"Number of words after preprocessing: {word_count}\")\n",
    "\n"
   ]
  },
  {
   "cell_type": "code",
   "execution_count": 32,
   "id": "5590ae2c",
   "metadata": {},
   "outputs": [
    {
     "name": "stdout",
     "output_type": "stream",
     "text": [
      "(0, 10000)\n",
      "(10000, 20000)\n",
      "(20000, 30000)\n",
      "(30000, 40000)\n",
      "(40000, 50000)\n",
      "(50000, 54298)\n"
     ]
    },
    {
     "data": {
      "text/plain": [
       "6"
      ]
     },
     "execution_count": 32,
     "metadata": {},
     "output_type": "execute_result"
    }
   ],
   "source": [
    "chunk_size = 10000\n",
    "total = len(part1)\n",
    "chunk_count = (total//chunk_size) + 1\n",
    "\n",
    "chunks = []\n",
    "for i in range(0,chunk_count):\n",
    "    #chunks.append(part1[[i*chunk_size]:chunk_size])\n",
    "    #print(i*chunk_size)\n",
    "    start = i*chunk_size\n",
    "    end = min(start+chunk_size, total)\n",
    "    print((start, end))\n",
    "    chunks.append(part1[start:end])\n",
    "\n",
    "len(chunks)"
   ]
  },
  {
   "cell_type": "code",
   "execution_count": 33,
   "id": "a098c4f6",
   "metadata": {},
   "outputs": [],
   "source": [
    "def summarize_chunks(chunks, prompt='summary', max_tokens=900):\n",
    "    r = ''\n",
    "    for chunk in chunks:\n",
    "        r += submit_prompt(chunk, prompt, max_tokens=max_tokens)\n",
    "        \n",
    "    return r"
   ]
  },
  {
   "cell_type": "code",
   "execution_count": 35,
   "id": "c5c69212",
   "metadata": {},
   "outputs": [],
   "source": [
    "def chunk_text(text, chunk_size=10000):\n",
    "    total = len(text)\n",
    "    chunk_count = (total//chunk_size) + 1\n",
    "\n",
    "    chunks = []\n",
    "    for i in range(0,chunk_count):\n",
    "        start = i*chunk_size\n",
    "        end = min(start+chunk_size, total)\n",
    "        chunks.append(text[start:end])\n",
    "\n",
    "    return chunks"
   ]
  },
  {
   "cell_type": "code",
   "execution_count": 34,
   "id": "b90c9f22",
   "metadata": {},
   "outputs": [
    {
     "name": "stdout",
     "output_type": "stream",
     "text": [
      "Summary:\n",
      "- Discussion of creating a transcript of the meeting\n",
      "- Discussion of using GPT 3 model to make notes\n",
      "- Discussion of using AWS Identity Center to manage users and user groups\n",
      "- Discussion of using Cognito in conjunction with AWS Identity Center\n",
      "- Discussion of using GWT Team Bearer for identity management\n",
      "- Discussion of using Octa for identity management\n",
      "- Discussion of access to code Ocean and S3 buckets\n",
      "- Discussion of merging Rob's platform with code Ocean\n",
      "\n",
      "Actions:\n",
      "- Download transcript and put it through GPT 3 model\n",
      "- Pull the trigger on setting up Octave\n",
      "- Chisel together a diagramSummary:\n",
      "- Discussed different identity providers for accessing apps, including Azure AD, Orchid, and AWS\n",
      "- Discussed the need to control access to apps, and the need to be able to revoke access when someone leaves an organization\n",
      "- Discussed the possibility of using Azure AD as an identity provider for the platform services maintained by Rob's team\n",
      "- Discussed the possibility of using Orchid as an identity provider for other apps, and the ability to manage access in one placeSummary:\n",
      "- The group is discussing how to collaborate across different identity providers to allow access to Code Ocean, an application running in AWS.\n",
      "- They are considering using Azure AD, Cognito, or Octa as the identity provider.\n",
      "- They are also considering using AWS Identity Center to manage groups and access to resources.\n",
      "- They are discussing the pros and cons of using Azure AD, Cognito, or Octa.\n",
      "- Code Ocean requires an identity provider that can push users and user groups down.\n",
      "\n",
      "Actions:\n",
      "- Do due diligence around looking at Cognito and Octa.\n",
      "- Consider using AWS Identity Center to manage groups and access to resources.Summary:\n",
      "- Rob Young discussed the Azure AD for Allen Institute employees and the use of a B2C tenant to manage groups and roles for platform services.\n",
      "- AWS - Ashmeet Pahwa suggested exploring user replication in Azure AD and creating a separate group for Code Ocean.\n",
      "- David Feng and Rob Young discussed the use case of creating a list of projects and associating users to them with roles, and using that to authorize access to data in databases and AWS resources.\n",
      "- AWS - Ashmeet Pahwa suggested using attribute based access control and tags in the request to identify attributes in the request.\n",
      "\n",
      "Actions:\n",
      "- Rob Young to do research on pushing groups to Code Ocean\n",
      "- David Feng to confirm that Azure AD B2C plays nice with Code Ocean\n",
      "- AWS - Ashmeet Pahwa to look into the use case and do research on itSummary:\n",
      "- Discussion of how to manage access to Allen Institute data\n",
      "- Need to create roles for users with different levels of access\n",
      "- Need to create a system to associate users with projects and filter data returned\n",
      "- Need to create a system to manage access to S3 buckets\n",
      "- Need to consider how to give users access to S3 buckets (e.g. signed URLs)\n",
      "\n",
      "Actions:\n",
      "- Create roles for users with different levels of access\n",
      "- Create a system to associate users with projects and filter data returned\n",
      "- Create a system to manage access to S3 buckets\n",
      "- Consider how to give users access to S3 buckets (e.g. signed URLs)Summary:\n",
      "- Discussed ways to automate the process of keeping data in sync\n",
      "- Discussed providing an abstraction layer that makes it look like a file system to make it easier for scientists to use\n",
      "- Discussed the service Nasuni, which works with AWS and POSIX compliant Linux and EQUATE\n",
      "- Discussed AWS Transfer Family, which is an SFTP server that connects to an S3 bucket and provides a list of files\n",
      "\n",
      "Actions:\n",
      "- Huddle with Ashmeet and Mike to brainstorm ideas and come up with proposals or designs\n",
      "- Keep chipping away at the challenge\n",
      "- Let John know about the code ocean thing\n",
      "- Consider the challenge and provide help if possible\n"
     ]
    }
   ],
   "source": [
    "r = summarize_chunks(chunks, max_tokens=900)\n",
    "print(r)"
   ]
  },
  {
   "cell_type": "code",
   "execution_count": 37,
   "id": "27d11678",
   "metadata": {},
   "outputs": [
    {
     "data": {
      "text/plain": [
       "1"
      ]
     },
     "execution_count": 37,
     "metadata": {},
     "output_type": "execute_result"
    }
   ],
   "source": [
    "t = chunk_text(r)\n",
    "len(t)"
   ]
  },
  {
   "cell_type": "code",
   "execution_count": 41,
   "id": "ec73b794",
   "metadata": {},
   "outputs": [
    {
     "data": {
      "text/plain": [
       "\"Summary:\\n- Discussion of creating a transcript of the meeting\\n- Discussion of using GPT 3 model to make notes\\n- Discussion of using AWS Identity Center to manage users and user groups\\n- Discussion of using Cognito in conjunction with AWS Identity Center\\n- Discussion of using GWT Team Bearer for identity management\\n- Discussion of using Octa for identity management\\n- Discussion of access to code Ocean and S3 buckets\\n- Discussion of merging Rob's platform with code Ocean\\n\\nActions:\\n- Download transcript and put it through GPT 3 model\\n- Pull the trigger on setting up Octave\\n- Chisel together a diagramSummary:\\n- Discussed different identity providers for accessing apps, including Azure AD, Orchid, and AWS\\n- Discussed the need to control access to apps, and the need to be able to revoke access when someone leaves an organization\\n- Discussed the possibility of using Azure AD as an identity provider for the platform services maintained by Rob's team\\n- Discussed the possibility of using Orchid as an identity provider for other apps, and the ability to manage access in one placeSummary:\\n- The group is discussing how to collaborate across different identity providers to allow access to Code Ocean, an application running in AWS.\\n- They are considering using Azure AD, Cognito, or Octa as the identity provider.\\n- They are also considering using AWS Identity Center to manage groups and access to resources.\\n- They are discussing the pros and cons of using Azure AD, Cognito, or Octa.\\n- Code Ocean requires an identity provider that can push users and user groups down.\\n\\nActions:\\n- Do due diligence around looking at Cognito and Octa.\\n- Consider using AWS Identity Center to manage groups and access to resources.Summary:\\n- Rob Young discussed the Azure AD for Allen Institute employees and the use of a B2C tenant to manage groups and roles for platform services.\\n- AWS - Ashmeet Pahwa suggested exploring user replication in Azure AD and creating a separate group for Code Ocean.\\n- David Feng and Rob Young discussed the use case of creating a list of projects and associating users to them with roles, and using that to authorize access to data in databases and AWS resources.\\n- AWS - Ashmeet Pahwa suggested using attribute based access control and tags in the request to identify attributes in the request.\\n\\nActions:\\n- Rob Young to do research on pushing groups to Code Ocean\\n- David Feng to confirm that Azure AD B2C plays nice with Code Ocean\\n- AWS - Ashmeet Pahwa to look into the use case and do research on itSummary:\\n- Discussion of how to manage access to Allen Institute data\\n- Need to create roles for users with different levels of access\\n- Need to create a system to associate users with projects and filter data returned\\n- Need to create a system to manage access to S3 buckets\\n- Need to consider how to give users access to S3 buckets (e.g. signed URLs)\\n\\nActions:\\n- Create roles for users with different levels of access\\n- Create a system to associate users with projects and filter data returned\\n- Create a system to manage access to S3 buckets\\n- Consider how to give users access to S3 buckets (e.g. signed URLs)Summary:\\n- Discussed ways to automate the process of keeping data in sync\\n- Discussed providing an abstraction layer that makes it look like a file system to make it easier for scientists to use\\n- Discussed the service Nasuni, which works with AWS and POSIX compliant Linux and EQUATE\\n- Discussed AWS Transfer Family, which is an SFTP server that connects to an S3 bucket and provides a list of files\\n\\nActions:\\n- Huddle with Ashmeet and Mike to brainstorm ideas and come up with proposals or designs\\n- Keep chipping away at the challenge\\n- Let John know about the code ocean thing\\n- Consider the challenge and provide help if possible\""
      ]
     },
     "execution_count": 41,
     "metadata": {},
     "output_type": "execute_result"
    }
   ],
   "source": [
    "t[0]"
   ]
  },
  {
   "cell_type": "code",
   "execution_count": 38,
   "id": "bf06162e",
   "metadata": {},
   "outputs": [
    {
     "name": "stdout",
     "output_type": "stream",
     "text": [
      "- Research Nasuni and AWS Transfer Family to see if they can be used to automate the process of keeping data in sync\n"
     ]
    }
   ],
   "source": [
    "f = summarize_chunks(t, max_tokens=900)\n",
    "print(f)"
   ]
  },
  {
   "cell_type": "code",
   "execution_count": 42,
   "id": "c50b031b",
   "metadata": {},
   "outputs": [
    {
     "name": "stdout",
     "output_type": "stream",
     "text": [
      "Summary:\n",
      "- Discussed ways to manage access to Allen Institute data\n",
      "- Discussed using Azure AD, Cognito, and Octa as identity providers\n",
      "- Discussed using AWS Identity Center to manage groups and access to resources\n",
      "- Discussed the need to control access to apps and the ability to revoke access when someone leaves an organization\n",
      "- Discussed automating the process of keeping data in sync\n",
      "- Discussed providing an abstraction layer to make it easier for scientists to use\n",
      "- Discussed the service Nasuni and AWS Transfer Family\n",
      "\n",
      "Actions:\n",
      "- Download transcript and put it through GPT 3 model\n",
      "- Pull the trigger on setting up Octave\n",
      "- Chisel together a diagram\n",
      "- Do due diligence around looking at Cognito and Octa\n",
      "- Consider using AWS Identity Center to manage groups and access to resources\n",
      "- Rob Young to do research on pushing groups to Code Ocean\n",
      "- David Feng to confirm that Azure AD B2C plays nice with Code Ocean\n",
      "- AWS - Ashmeet Pahwa to look into the use case and do research on it\n",
      "- Huddle with Ashmeet and Mike to brainstorm ideas and come up with proposals or designs\n",
      "- Keep chipping away at the challenge\n",
      "- Let John know about the code ocean thing\n",
      "- Consider the challenge and provide help if possible\n"
     ]
    }
   ],
   "source": [
    "r = submit_prompt(t[0], 'topics', max_tokens=900)\n",
    "print(r)"
   ]
  },
  {
   "cell_type": "code",
   "execution_count": null,
   "id": "7a555ae5",
   "metadata": {},
   "outputs": [],
   "source": [
    "print(part1)"
   ]
  },
  {
   "cell_type": "code",
   "execution_count": null,
   "id": "66539d8b",
   "metadata": {},
   "outputs": [],
   "source": [
    "import re\n",
    "re.sub(\"[0-9]{1,2}:[0-9]{1,2}:[0-9]{1,2}\\.[0-9]{1,3} --> [0-9]{1,2}:[0-9]{1,2}:[0-9]{1,2}\\.[0-9]{1,3}\", '', part1_1)"
   ]
  },
  {
   "cell_type": "code",
   "execution_count": null,
   "id": "d4a495a9",
   "metadata": {},
   "outputs": [],
   "source": [
    "\n",
    "r = submit_prompt(chunks[2]+chunks[3], 'topics', max_tokens=2000)\n",
    "print(r)"
   ]
  },
  {
   "cell_type": "code",
   "execution_count": null,
   "id": "3cd50895",
   "metadata": {},
   "outputs": [],
   "source": [
    "print('Topics:\\n- User Management\\n- Configuration Steps\\n- Autoscaling\\n- HPC Setup\\n- Workflow Management\\n\\nSummary:\\n- User Management: Code Ocean offers integrations with Okta and Auth0 for identity management, which allows for assigning users to groups and sharing data and capsules with groups.\\n- Configuration Steps: Cloud formation template is used to deploy updates, which can take up to half an hour and cause an outage.\\n- Autoscaling: There is an auto scaling pool that pulls resources from, and users can request dedicated instances or spot instances.\\n- HPC Setup: Not currently supported, but may be in the near future.\\n- Workflow Management: Code Ocean uses Nextflow, which has a no-code script generator and allows users to write their own scripts.')"
   ]
  },
  {
   "cell_type": "code",
   "execution_count": null,
   "id": "ae5001d1",
   "metadata": {},
   "outputs": [],
   "source": [
    "for chunk in chunks:\n",
    "    r = submit_prompt(chunk, 'topics', max_tokens=2000)\n",
    "    print(r)"
   ]
  },
  {
   "cell_type": "code",
   "execution_count": null,
   "id": "88006e5d",
   "metadata": {},
   "outputs": [],
   "source": [
    "r = translate_question(r + \"\\nlol!\", 'jerry')\n",
    "print(r)"
   ]
  },
  {
   "cell_type": "code",
   "execution_count": null,
   "id": "a0035de9",
   "metadata": {},
   "outputs": [],
   "source": []
  }
 ],
 "metadata": {
  "kernelspec": {
   "display_name": "Python 3 (ipykernel)",
   "language": "python",
   "name": "python3"
  },
  "language_info": {
   "codemirror_mode": {
    "name": "ipython",
    "version": 3
   },
   "file_extension": ".py",
   "mimetype": "text/x-python",
   "name": "python",
   "nbconvert_exporter": "python",
   "pygments_lexer": "ipython3",
   "version": "3.10.9"
  }
 },
 "nbformat": 4,
 "nbformat_minor": 5
}
